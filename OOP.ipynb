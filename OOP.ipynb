{
 "cells": [
  {
   "cell_type": "code",
   "execution_count": 1,
   "id": "82740542",
   "metadata": {},
   "outputs": [],
   "source": [
    "liste = [1,2,3,4,5] #liste objesi olusturmak"
   ]
  },
  {
   "cell_type": "code",
   "execution_count": 2,
   "id": "372c7833",
   "metadata": {},
   "outputs": [
    {
     "name": "stdout",
     "output_type": "stream",
     "text": [
      "[1, 2, 3, 4, 5, 6]\n"
     ]
    }
   ],
   "source": [
    "liste.append(6) #append metodu\n",
    "print(liste)"
   ]
  },
  {
   "cell_type": "code",
   "execution_count": 3,
   "id": "1a1c5ecf",
   "metadata": {},
   "outputs": [
    {
     "data": {
      "text/plain": [
       "list"
      ]
     },
     "execution_count": 3,
     "metadata": {},
     "output_type": "execute_result"
    }
   ],
   "source": [
    "type(liste) #liste objesi"
   ]
  },
  {
   "cell_type": "code",
   "execution_count": 4,
   "id": "ab20fe6a",
   "metadata": {},
   "outputs": [],
   "source": [
    "sözlük = dict() "
   ]
  },
  {
   "cell_type": "code",
   "execution_count": 5,
   "id": "57055980",
   "metadata": {},
   "outputs": [
    {
     "data": {
      "text/plain": [
       "dict"
      ]
     },
     "execution_count": 5,
     "metadata": {},
     "output_type": "execute_result"
    }
   ],
   "source": [
    "type(sözlük) # dict objesi"
   ]
  },
  {
   "cell_type": "code",
   "execution_count": 6,
   "id": "6c270983",
   "metadata": {},
   "outputs": [
    {
     "data": {
      "text/plain": [
       "tuple"
      ]
     },
     "execution_count": 6,
     "metadata": {},
     "output_type": "execute_result"
    }
   ],
   "source": [
    "type((1,2,3,4)) #tuple objesi"
   ]
  },
  {
   "cell_type": "code",
   "execution_count": 7,
   "id": "2c1c3c75",
   "metadata": {},
   "outputs": [],
   "source": [
    "def toplama(a,b):\n",
    "    return a + b"
   ]
  },
  {
   "cell_type": "code",
   "execution_count": 8,
   "id": "19bd2a35",
   "metadata": {},
   "outputs": [
    {
     "data": {
      "text/plain": [
       "function"
      ]
     },
     "execution_count": 8,
     "metadata": {},
     "output_type": "execute_result"
    }
   ],
   "source": [
    "type(toplama) # fonksiyon objesi"
   ]
  },
  {
   "cell_type": "markdown",
   "id": "7199b3f1",
   "metadata": {},
   "source": [
    "## Nesne Tabanlı Programlama - Sınıflar\n",
    "\n",
    "Bu konuda artık kendi veri tiplerimizi ve objelerimizi üretmeye başlayacağız.\n",
    "\n",
    "Kendi veri tiplerimizi oluşturmak ve bu veri tiplerinden objeler üretmemiz için öncelikle objeleri üreteceğimiz yapıyı tanımlamamız gerekiyor. Bunu tasarladığımız yapıya da sınıf veya ingilizce ismiyle class diyoruz. Şimdi class yapılarını öğrenerek konumuza başlayalım.\n"
   ]
  },
  {
   "cell_type": "markdown",
   "id": "9b8cd9ed",
   "metadata": {},
   "source": [
    "\n",
    "## Class Anahtar Kelimesi\n",
    "\n",
    "Sınıflar veya Classlar objelerimizi oluştururken objelerin özelliklerini ve metodlarını tanımladığımız bir yapıdır ve biz herbir objeyi bu yapıya göre üretiriz. İsterseniz bir Araba classı tanımlayarak yapımızı kurmaya başlayalım.\n"
   ]
  },
  {
   "cell_type": "code",
   "execution_count": 9,
   "id": "1120ca9d",
   "metadata": {},
   "outputs": [],
   "source": [
    "class Araba():\n",
    "    model = \"Renault Megane\"\n",
    "    renk = \"Gümüş\"  # Sınıfımızın özellikleri (attributes)\n",
    "    beygir_gücü = 110\n",
    "    silindir = 4"
   ]
  },
  {
   "cell_type": "code",
   "execution_count": 10,
   "id": "7b9d522f",
   "metadata": {},
   "outputs": [
    {
     "data": {
      "text/plain": [
       "<__main__.Araba at 0x281aef6a520>"
      ]
     },
     "execution_count": 10,
     "metadata": {},
     "output_type": "execute_result"
    }
   ],
   "source": [
    "araba1 = Araba()\n",
    "araba1"
   ]
  },
  {
   "cell_type": "code",
   "execution_count": 11,
   "id": "be28e016",
   "metadata": {},
   "outputs": [
    {
     "data": {
      "text/plain": [
       "<__main__.Araba at 0x281aef6aa30>"
      ]
     },
     "execution_count": 11,
     "metadata": {},
     "output_type": "execute_result"
    }
   ],
   "source": [
    "araba2 = Araba()\n",
    "araba2"
   ]
  },
  {
   "cell_type": "code",
   "execution_count": 12,
   "id": "b97d98f0",
   "metadata": {},
   "outputs": [
    {
     "data": {
      "text/plain": [
       "'Renault Megane'"
      ]
     },
     "execution_count": 12,
     "metadata": {},
     "output_type": "execute_result"
    }
   ],
   "source": [
    "araba1.model"
   ]
  },
  {
   "cell_type": "code",
   "execution_count": 13,
   "id": "bf369e0b",
   "metadata": {},
   "outputs": [
    {
     "data": {
      "text/plain": [
       "110"
      ]
     },
     "execution_count": 13,
     "metadata": {},
     "output_type": "execute_result"
    }
   ],
   "source": [
    "araba2.beygir_gücü"
   ]
  },
  {
   "cell_type": "code",
   "execution_count": 14,
   "id": "bd5996d0",
   "metadata": {},
   "outputs": [
    {
     "data": {
      "text/plain": [
       "'Renault Megane'"
      ]
     },
     "execution_count": 14,
     "metadata": {},
     "output_type": "execute_result"
    }
   ],
   "source": [
    "araba2.model"
   ]
  },
  {
   "cell_type": "code",
   "execution_count": 15,
   "id": "c82ce13a",
   "metadata": {},
   "outputs": [
    {
     "data": {
      "text/plain": [
       "'Renault Megane'"
      ]
     },
     "execution_count": 15,
     "metadata": {},
     "output_type": "execute_result"
    }
   ],
   "source": [
    "Araba.model"
   ]
  },
  {
   "cell_type": "code",
   "execution_count": 16,
   "id": "f1e3bea7",
   "metadata": {},
   "outputs": [
    {
     "data": {
      "text/plain": [
       "['__class__',\n",
       " '__delattr__',\n",
       " '__dict__',\n",
       " '__dir__',\n",
       " '__doc__',\n",
       " '__eq__',\n",
       " '__format__',\n",
       " '__ge__',\n",
       " '__getattribute__',\n",
       " '__gt__',\n",
       " '__hash__',\n",
       " '__init__',\n",
       " '__init_subclass__',\n",
       " '__le__',\n",
       " '__lt__',\n",
       " '__module__',\n",
       " '__ne__',\n",
       " '__new__',\n",
       " '__reduce__',\n",
       " '__reduce_ex__',\n",
       " '__repr__',\n",
       " '__setattr__',\n",
       " '__sizeof__',\n",
       " '__str__',\n",
       " '__subclasshook__',\n",
       " '__weakref__',\n",
       " 'beygir_gücü',\n",
       " 'model',\n",
       " 'renk',\n",
       " 'silindir']"
      ]
     },
     "execution_count": 16,
     "metadata": {},
     "output_type": "execute_result"
    }
   ],
   "source": [
    "dir(araba1)"
   ]
  },
  {
   "cell_type": "markdown",
   "id": "a5ec8e09",
   "metadata": {},
   "source": [
    "init metodu Pythonda **yapıcı(constructor ) fonksiyon** olarak tanımlanmaktadır. Bu metod **objelerimiz oluşturulurken otomatik olarak ilk çağrılan fonksiyondur.** Bu metodu özel olarak tanımlayarak objelerimizi farklı değerlerle oluşturabiliriz."
   ]
  },
  {
   "cell_type": "markdown",
   "id": "d815cb2d",
   "metadata": {},
   "source": [
    "* self anahtar kelimesi objeyi oluşturduğumuz zaman o objeyi gösteren bir referanstır ve metodlarımızda en başta bulunması gereken bir parametredir. Yani biz bir objenin bütün özelliklerini ve metodlarını bu referans üzerinden kullanabiliriz.\n",
    "\n",
    "* Objeler oluşturulurken, Python bu referansı metodlara otomatik olarak kendisi gönderir. Özel olarak self referansını göndermemize gerek yoktur.\n"
   ]
  },
  {
   "cell_type": "code",
   "execution_count": 17,
   "id": "2458e9ed",
   "metadata": {},
   "outputs": [
    {
     "name": "stdout",
     "output_type": "stream",
     "text": [
      "arabanın özellikleri: BMW, kırmızı, 150, 4\n"
     ]
    }
   ],
   "source": [
    "class Araba():\n",
    "    \n",
    "    def __init__(self,model,renk,beygir_gücü,silindir): # Parametrelerimizin değerlerini objelerimizi oluştururken göndereceğiz.\n",
    "        self.model =  model # self.özellik_ismi = parametre değeri şeklinde objemizin model özelliğine değeri atıyoruz.\n",
    "        self.renk = renk # self.özellik_ismi = parametre değeri şeklinde objemizin renk özelliğine değeri atıyoruz.\n",
    "        self.beygir_gücü = beygir_gücü # self.özellik_ismi = parametre değeri şeklinde objemizin beygir_gücü özelliğine değeri atıyoruz.\n",
    "        self.silindir = silindir # self.özellik_ismi = parametre değeri şeklinde objemizin silndir özelliğine değeri atıyoruz.\n",
    "    \n",
    "    def run(self):\n",
    "        return f\"arabanın özellikleri: {self.model}, {self.renk}, {self.beygir_gücü}, {self.silindir}\"\n",
    "    \n",
    "    \n",
    "araba1 = Araba(\"BMW\",\"kırmızı\",150,4)\n",
    "print(araba1.run())\n",
    "\n",
    "#print(f\"arabanın özellikleri: {araba1.model},{araba1.renk},{araba1.beygir_gücü},{araba1.silindir}\")"
   ]
  },
  {
   "cell_type": "code",
   "execution_count": 18,
   "id": "0274b765",
   "metadata": {},
   "outputs": [
    {
     "name": "stdout",
     "output_type": "stream",
     "text": [
      "arabanın özellikleri: Opel, mor, 130, 4\n"
     ]
    }
   ],
   "source": [
    "araba2= Araba(\"Opel\",\"mor\",130,4)\n",
    "print(araba2.run())"
   ]
  },
  {
   "cell_type": "code",
   "execution_count": 19,
   "id": "a22f41c0",
   "metadata": {},
   "outputs": [
    {
     "name": "stdout",
     "output_type": "stream",
     "text": [
      "arabanın özellikleri: mercedes, bilgi yok, 110, 4\n"
     ]
    }
   ],
   "source": [
    "class Araba():\n",
    "    \n",
    "    def __init__(self,model=\"bilgi yok\",renk=\"bilgi yok\",beygir_gücü=110,silindir=4):\n",
    "        self.model =  model \n",
    "        self.renk = renk \n",
    "        self.beygir_gücü = beygir_gücü \n",
    "        self.silindir = silindir \n",
    "    \n",
    "    def run(self):\n",
    "        return f\"arabanın özellikleri: {self.model}, {self.renk}, {self.beygir_gücü}, {self.silindir}\"\n",
    "    \n",
    "    \n",
    "araba3 = Araba(model=\"mercedes\")\n",
    "print(araba3.run())\n",
    "\n",
    "#print(f\"arabanın özellikleri: {araba1.model},{araba1.renk},{araba1.beygir_gücü},{araba1.silindir}\")"
   ]
  },
  {
   "cell_type": "code",
   "execution_count": 20,
   "id": "efe550eb",
   "metadata": {},
   "outputs": [
    {
     "name": "stdout",
     "output_type": "stream",
     "text": [
      "kedinin özellikleri: van,beyaz,7\n"
     ]
    }
   ],
   "source": [
    "class Cat():\n",
    "    def __init__(self,tür,renk,yas):\n",
    "        self.tür = tür\n",
    "        self.renk = renk\n",
    "        self.yas = yas\n",
    "        \n",
    "    def run(self):\n",
    "        return f\"kedinin özellikleri: {self.tür}, {self.renk}, {self.yas}\"\n",
    "    \n",
    "cat1 = Cat(\"van\",\"beyaz\",7)\n",
    "#print(cat1.run()) veya\n",
    "print(f\"kedinin özellikleri: {cat1.tür},{cat1.renk},{cat1.yas}\")\n"
   ]
  },
  {
   "cell_type": "code",
   "execution_count": 21,
   "id": "889d9b1d",
   "metadata": {},
   "outputs": [
    {
     "name": "stdout",
     "output_type": "stream",
     "text": [
      "çalışan:\n",
      "Ege\n",
      "Sarak\n",
      "15\n",
      "7000\n",
      "['C#', 'Python', 'HTML', 'CSS']\n",
      " çalışan:\n",
      "Berk\n",
      "Algül\n",
      "16\n",
      "10000\n",
      "['java', 'C', 'Python', 'HTML', 'CSS', '.NET Core']\n",
      "\n"
     ]
    }
   ],
   "source": [
    "class Yazılımcı():\n",
    "    def __init__(self,isim,soyisim,numara,maas,diller):\n",
    "        self.isim = isim\n",
    "        self.soyisim = soyisim\n",
    "        self.numara = numara\n",
    "        self.maas = maas\n",
    "        self.diller = diller\n",
    "        \n",
    "    def shout(self):\n",
    "        return f\"çalışan:\\n{self.isim}\\n{self.soyisim}\\n{self.numara}\\n{self.maas}\\n{self.diller}\\n\"\n",
    "    \n",
    "    def zam_yap(self,zam_miktarı):\n",
    "        print(\"Zam yapılıyor...\")\n",
    "        self.maas += zam_miktarı\n",
    "    \n",
    "    def dil_ekle(self,yeni_dil):\n",
    "        print(\"Dil ekleniyor...\")\n",
    "        self.diller.append(yeni_dil)\n",
    "    \n",
    "yaz1 = Yazılımcı(\"Ege\",\"Sarak\",15,7000,[\"C#\",\"Python\",\"HTML\",\"CSS\"]) \n",
    "yaz2 = Yazılımcı(\"Berk\",\"Algül\",16,10000,[\"java\",\"C\",\"Python\",\"HTML\",\"CSS\",\".NET Core\"])\n",
    "\n",
    "print(yaz1.shout(),yaz2.shout())"
   ]
  },
  {
   "cell_type": "code",
   "execution_count": 22,
   "id": "b0a8e2ae",
   "metadata": {},
   "outputs": [
    {
     "name": "stdout",
     "output_type": "stream",
     "text": [
      "Dil ekleniyor...\n"
     ]
    }
   ],
   "source": [
    "yaz1.dil_ekle(\"GoLang\")"
   ]
  },
  {
   "cell_type": "code",
   "execution_count": 23,
   "id": "d7e198d0",
   "metadata": {},
   "outputs": [
    {
     "name": "stdout",
     "output_type": "stream",
     "text": [
      "çalışan:\n",
      "Ege\n",
      "Sarak\n",
      "15\n",
      "7000\n",
      "['C#', 'Python', 'HTML', 'CSS', 'GoLang']\n",
      "\n"
     ]
    }
   ],
   "source": [
    "print(yaz1.shout())"
   ]
  },
  {
   "cell_type": "code",
   "execution_count": 24,
   "id": "5697e96b",
   "metadata": {},
   "outputs": [
    {
     "name": "stdout",
     "output_type": "stream",
     "text": [
      "Zam yapılıyor...\n",
      "çalışan:\n",
      "Ege\n",
      "Sarak\n",
      "15\n",
      "7200\n",
      "['C#', 'Python', 'HTML', 'CSS', 'GoLang']\n",
      "\n"
     ]
    }
   ],
   "source": [
    "yaz1.zam_yap(200)\n",
    "print(yaz1.shout())"
   ]
  },
  {
   "cell_type": "markdown",
   "id": "4166d82f",
   "metadata": {},
   "source": [
    "## Nesne Tabanlı Programlama - Kalıtım (Inheritance)\n",
    "\n",
    "* Bu konuda Nesne Tabanlı Programlamadaki inheritance(kalıtım veya miras alma) konseptini öğrenmeye çalışacağız. Inheritance veya kalıtım bir sınıfın başka bir sınıftan özelliklerini(attribute ) ve metodlarını miras almasıdır.\n",
    "\n",
    "* Bu konsepti aslında bizim kendi anne babamızdan değişik özellikleri ve davranışları miras almamıza benzetebiliriz.(Hani derler ya ! Babasına çekmiş :) )\n",
    "\n",
    "* Peki inheritance nerede işimize yarar ? Örneğin, bir şirketin çalışanlarını tasarlamak için sınıflar oluşturuyoruz. Bunun için Yönetici, Proje Direktörü, İşçi gibi sınıflar oluşturmamız gerekiyor. Aslında baktığımız zaman bu sınıfların hepsinin belli ortak metodları ve özellikleri bulunuyor. O zaman bu ortak özellikleri ve metodları tekrar tekrar bu sınıfların içinde tanımlamak yerine, bir tane ana class tanımlayıp bu classların bu classın özelliklerini ve metodlarını almalarını sağlayabiliriz. Inheritance'ın veya Kalıtım'ın temel mantığı budur."
   ]
  },
  {
   "cell_type": "code",
   "execution_count": 25,
   "id": "8f7695a0",
   "metadata": {},
   "outputs": [],
   "source": [
    "class Calisan():\n",
    "    def __init__(self,isim,maas,departman):\n",
    "        print(\"Çalışan sınıfının init fonksiyonu\")\n",
    "        \n",
    "        self.isim = isim\n",
    "        self.maas = maas\n",
    "        self.departman = departman\n",
    "        \n",
    "    def run(self):\n",
    "        print(\"Çalışan sınıfının bilgileri....\")\n",
    "        return f\"çalışan:\\nİsim: {self.isim}\\nMaaş: {self.maas}\\nDepartman: {self.departman}\"\n",
    "    \n",
    "    def departman_degiştir(self,yeni_departman):\n",
    "        self.departman = yeni_departman"
   ]
  },
  {
   "cell_type": "code",
   "execution_count": 26,
   "id": "d1ff7bed",
   "metadata": {},
   "outputs": [],
   "source": [
    "class Yonetici(Calisan):\n",
    "    pass"
   ]
  },
  {
   "cell_type": "code",
   "execution_count": 27,
   "id": "e3495fb8",
   "metadata": {},
   "outputs": [
    {
     "name": "stdout",
     "output_type": "stream",
     "text": [
      "Çalışan sınıfının init fonksiyonu\n"
     ]
    }
   ],
   "source": [
    "yonetici = Yonetici(\"Ege\",5000,\"IT\")"
   ]
  },
  {
   "cell_type": "code",
   "execution_count": 28,
   "id": "853c464a",
   "metadata": {},
   "outputs": [
    {
     "name": "stdout",
     "output_type": "stream",
     "text": [
      "Çalışan sınıfının bilgileri....\n",
      "çalışan:\n",
      "İsim: Ege\n",
      "Maaş: 5000\n",
      "Departman: IT\n"
     ]
    }
   ],
   "source": [
    "print(yonetici.run())"
   ]
  },
  {
   "cell_type": "code",
   "execution_count": 29,
   "id": "ab1ea921",
   "metadata": {},
   "outputs": [
    {
     "name": "stdout",
     "output_type": "stream",
     "text": [
      "Çalışan sınıfının bilgileri....\n",
      "çalışan:\n",
      "İsim: Ege\n",
      "Maaş: 5000\n",
      "Departman: İK\n"
     ]
    }
   ],
   "source": [
    "yonetici.departman_degiştir(\"İK\")\n",
    "print(yonetici.run())"
   ]
  },
  {
   "cell_type": "code",
   "execution_count": 30,
   "id": "926588f3",
   "metadata": {},
   "outputs": [],
   "source": [
    " class Yonetici(Calisan):\n",
    "    def zam_yap(self,zam_miktari):\n",
    "        self.maas += zam_miktari\n",
    "        "
   ]
  },
  {
   "cell_type": "code",
   "execution_count": 31,
   "id": "80ad82bc",
   "metadata": {},
   "outputs": [
    {
     "name": "stdout",
     "output_type": "stream",
     "text": [
      "Çalışan sınıfının init fonksiyonu\n"
     ]
    }
   ],
   "source": [
    "yonetici = Yonetici(\"Serhat\",3500,\"Pazarlama\")"
   ]
  },
  {
   "cell_type": "code",
   "execution_count": 32,
   "id": "963eef62",
   "metadata": {},
   "outputs": [
    {
     "name": "stdout",
     "output_type": "stream",
     "text": [
      "Çalışan sınıfının bilgileri....\n",
      "çalışan:\n",
      "İsim: Serhat\n",
      "Maaş: 4000\n",
      "Departman: Pazarlama\n"
     ]
    }
   ],
   "source": [
    "yonetici.zam_yap(500)\n",
    "print(yonetici.run())"
   ]
  },
  {
   "cell_type": "markdown",
   "id": "aafb530a",
   "metadata": {},
   "source": [
    "\n",
    "## Overriding (İptal Etme)\n",
    "\n",
    "Eğer biz miras aldığımız metodları aynı isimle kendi sınıfımızda tekrar tanımlarsak , artık metodu çağırdığımız zaman miras aldığımız değil kendi metodumuz çalışacaktır. Buna Nesne Tabanlı Programlamada bir metodu override etmek denmektedir.\n",
    "\n",
    "Örneğin artık Çalışan sınıfının init metodunu kullanmak yerine Yönetici sınıfında init metodunu override edebiliriz. Böylelikle Yönetici sınıfına ekstra özellikler(attribute) ekleyebiliriz.\n"
   ]
  },
  {
   "cell_type": "code",
   "execution_count": 42,
   "id": "f3f9435c",
   "metadata": {},
   "outputs": [],
   "source": [
    "class Yonetici(Calisan):\n",
    "    def __init__(self,isim,maas,departman,kisi_sayisi):\n",
    "        print(\"Yönetici sınıfnın init fonksiyonu\")\n",
    "        \n",
    "        self.isim = isim\n",
    "        self.maas = maas\n",
    "        self.departman =departman\n",
    "        self.kisi_sayisi = kisi_sayisi\n",
    "        \n",
    "    def run(self):\n",
    "            print(\"Yönetici sınıfının bilgileri....\")\n",
    "            return f\"çalışan:\\nİsim: {self.isim}\\nMaaş: {self.maas}\\nDepartman: {self.departman}\\nKişi sayısı: {self.kisi_sayisi}\"\n",
    "        \n",
    "        \n",
    "    def zam_yap(self,zam_miktari):\n",
    "        self.maas += zam_miktari"
   ]
  },
  {
   "cell_type": "code",
   "execution_count": 43,
   "id": "c9487989",
   "metadata": {},
   "outputs": [
    {
     "name": "stdout",
     "output_type": "stream",
     "text": [
      "Yönetici sınıfnın init fonksiyonu\n"
     ]
    }
   ],
   "source": [
    "yonetici2=Yonetici(\"Engin\",5000,\"IT\",10)"
   ]
  },
  {
   "cell_type": "code",
   "execution_count": 45,
   "id": "fc691be4",
   "metadata": {},
   "outputs": [
    {
     "name": "stdout",
     "output_type": "stream",
     "text": [
      "Yönetici sınıfının bilgileri....\n",
      "çalışan:\n",
      "İsim: Engin\n",
      "Maaş: 5000\n",
      "Departman: IT\n",
      "Kişi sayısı: 10\n"
     ]
    }
   ],
   "source": [
    "print(yonetici2.run()) #kendi yazdıgım fonk çağrıldı. Overriding"
   ]
  },
  {
   "cell_type": "markdown",
   "id": "0969248c",
   "metadata": {},
   "source": [
    "\n",
    "## super Anahtar Kelimesi\n",
    "\n",
    "**super** anahtar kelimesi özellikle override ettiğimiz bir metodun içinde aynı zamanda miras aldığımız bir metodu kullanmak istersek kullanılabilir. Yani **super** en genel anlamıyla miras aldığımız sınıfın metodlarını alt sınıflardan kullanmamızı sağlar. Hemen örnek üzerinden anlamaya çalışalım.\n"
   ]
  },
  {
   "cell_type": "code",
   "execution_count": 46,
   "id": "1573460e",
   "metadata": {},
   "outputs": [],
   "source": [
    "class Yonetici(Calisan):\n",
    "    def __init__(self,isim,maas,departman,kisi_sayisi):\n",
    "        super().__init__(isim,maas,departman)\n",
    "        \n",
    "        print(\"Yönetici sınıfnın init fonksiyonu\")\n",
    "        \n",
    "        self.kisi_sayisi = kisi_sayisi\n",
    "        \n",
    "    def run(self):\n",
    "            print(\"Yönetici sınıfının bilgileri....\")\n",
    "            return f\"çalışan:\\nİsim: {self.isim}\\nMaaş: {self.maas}\\nDepartman: {self.departman}\\nKişi sayısı: {self.kisi_sayisi}\"\n",
    "        \n",
    "        \n",
    "    def zam_yap(self,zam_miktari):\n",
    "        self.maas += zam_miktari"
   ]
  },
  {
   "cell_type": "code",
   "execution_count": 47,
   "id": "800562de",
   "metadata": {},
   "outputs": [
    {
     "name": "stdout",
     "output_type": "stream",
     "text": [
      "Çalışan sınıfının init fonksiyonu\n",
      "Yönetici sınıfnın init fonksiyonu\n"
     ]
    }
   ],
   "source": [
    "yonetici3 = Yonetici(\"Ege Sarak\",4000,\"bilişim\",5)"
   ]
  },
  {
   "cell_type": "code",
   "execution_count": 49,
   "id": "3b83f168",
   "metadata": {},
   "outputs": [
    {
     "name": "stdout",
     "output_type": "stream",
     "text": [
      "Yönetici sınıfının bilgileri....\n",
      "çalışan:\n",
      "İsim: Ege Sarak\n",
      "Maaş: 4000\n",
      "Departman: bilişim\n",
      "Kişi sayısı: 5\n"
     ]
    }
   ],
   "source": [
    "print(yonetici3.run())"
   ]
  },
  {
   "cell_type": "markdown",
   "id": "f5b8b1ab",
   "metadata": {},
   "source": [
    "\n",
    "## Nesne Tabanlı Programlama - Özel Metodlar\n",
    "\n",
    "Nesne tabanlı programlamada son olarak sınıfların özel metodlarını nasıl kendimiz yazarız öğrenmeye çalışalım. Özel metodlar, daha önceden de bahsettiğimiz gibi bizim özel olarak çağırmadığımız ancak her classa ait metodlardır. Bunların **çoğu** biz tanımlamasak bile Python tarafından varsayılan olarak tanımlanır. Ancak bu metodların bazılarını da özel olarak bizim tanımlamamız gerekmektedir. Daha önceden gördüğümüz **init** metodu bu metodlara bir örnektir.\n",
    "\n"
   ]
  },
  {
   "cell_type": "code",
   "execution_count": 50,
   "id": "8680c18d",
   "metadata": {},
   "outputs": [],
   "source": [
    "class Kitap():\n",
    "    pass"
   ]
  },
  {
   "cell_type": "code",
   "execution_count": 51,
   "id": "32db84e8",
   "metadata": {},
   "outputs": [],
   "source": [
    "kitap = Kitap() # __init__ öetodu"
   ]
  },
  {
   "cell_type": "code",
   "execution_count": 52,
   "id": "293ac90c",
   "metadata": {},
   "outputs": [
    {
     "name": "stdout",
     "output_type": "stream",
     "text": [
      "<__main__.Kitap object at 0x00000281AFF4DAC0>\n"
     ]
    }
   ],
   "source": [
    "print(kitap) # __str__ metodu"
   ]
  },
  {
   "cell_type": "code",
   "execution_count": 54,
   "id": "3b879b8a",
   "metadata": {},
   "outputs": [
    {
     "ename": "TypeError",
     "evalue": "object of type 'Kitap' has no len()",
     "output_type": "error",
     "traceback": [
      "\u001b[1;31m---------------------------------------------------------------------------\u001b[0m",
      "\u001b[1;31mTypeError\u001b[0m                                 Traceback (most recent call last)",
      "\u001b[1;32m~\\AppData\\Local\\Temp/ipykernel_20700/729089739.py\u001b[0m in \u001b[0;36m<module>\u001b[1;34m\u001b[0m\n\u001b[1;32m----> 1\u001b[1;33m \u001b[0mlen\u001b[0m\u001b[1;33m(\u001b[0m\u001b[0mkitap\u001b[0m\u001b[1;33m)\u001b[0m \u001b[1;31m# __len__ metodu\u001b[0m\u001b[1;33m\u001b[0m\u001b[1;33m\u001b[0m\u001b[0m\n\u001b[0m",
      "\u001b[1;31mTypeError\u001b[0m: object of type 'Kitap' has no len()"
     ]
    }
   ],
   "source": [
    "len(kitap) # __len__ metodu"
   ]
  },
  {
   "cell_type": "code",
   "execution_count": 55,
   "id": "ff24b9ce",
   "metadata": {},
   "outputs": [],
   "source": [
    "del kitap # __del__ metodu"
   ]
  },
  {
   "cell_type": "code",
   "execution_count": 56,
   "id": "54d2820d",
   "metadata": {},
   "outputs": [
    {
     "ename": "NameError",
     "evalue": "name 'kitap' is not defined",
     "output_type": "error",
     "traceback": [
      "\u001b[1;31m---------------------------------------------------------------------------\u001b[0m",
      "\u001b[1;31mNameError\u001b[0m                                 Traceback (most recent call last)",
      "\u001b[1;32m~\\AppData\\Local\\Temp/ipykernel_20700/436624881.py\u001b[0m in \u001b[0;36m<module>\u001b[1;34m\u001b[0m\n\u001b[1;32m----> 1\u001b[1;33m \u001b[0mkitap\u001b[0m\u001b[1;33m\u001b[0m\u001b[1;33m\u001b[0m\u001b[0m\n\u001b[0m",
      "\u001b[1;31mNameError\u001b[0m: name 'kitap' is not defined"
     ]
    }
   ],
   "source": [
    "kitap"
   ]
  },
  {
   "cell_type": "code",
   "execution_count": 57,
   "id": "0bb3b63c",
   "metadata": {},
   "outputs": [],
   "source": [
    "class Kitap():\n",
    "    \n",
    "    def __init__(self,isim,yazar,sayfa_sayısı,tür):\n",
    "        print(\"init fonkssiyonu\")\n",
    "        self.isim = isim\n",
    "        self.yazar = yazar\n",
    "        self.sayfa_sayısı = sayfa_sayısı\n",
    "        self.tür = tür\n",
    "     \n",
    "    def __str__(self):\n",
    "        return f\"Kitap:\\n{self.isim}\\n{self.yazar}\\n{self.sayfa_sayısı}\\n{self.tür}\"\n",
    "    \n",
    "        "
   ]
  },
  {
   "cell_type": "code",
   "execution_count": 58,
   "id": "a86e7571",
   "metadata": {},
   "outputs": [
    {
     "name": "stdout",
     "output_type": "stream",
     "text": [
      "init fonkssiyonu\n"
     ]
    }
   ],
   "source": [
    "kitap = Kitap(\"1984\",\"George Orwell\",500,\"Klasik\")"
   ]
  },
  {
   "cell_type": "code",
   "execution_count": 60,
   "id": "a5ac55d2",
   "metadata": {},
   "outputs": [
    {
     "name": "stdout",
     "output_type": "stream",
     "text": [
      "Kitap:\n",
      "1984\n",
      "George Orwell\n",
      "500\n",
      "Klasik\n"
     ]
    }
   ],
   "source": [
    "print(kitap)"
   ]
  },
  {
   "cell_type": "code",
   "execution_count": 65,
   "id": "e54e5e8f",
   "metadata": {},
   "outputs": [],
   "source": [
    "class Kitap():\n",
    "    \n",
    "    def __init__(self,isim,yazar,sayfa_sayısı,tür):\n",
    "        print(\"init fonkssiyonu\")\n",
    "        self.isim = isim\n",
    "        self.yazar = yazar\n",
    "        self.sayfa_sayısı = sayfa_sayısı\n",
    "        self.tür = tür\n",
    "     \n",
    "    def __str__(self):\n",
    "        return f\"Kitap:\\n{self.isim}\\n{self.yazar}\\n{self.sayfa_sayısı}\\n{self.tür}\"\n",
    "    \n",
    "    def __len__(self):\n",
    "        return self.sayfa_sayısı\n",
    "    \n",
    "    def __del__(self):\n",
    "        print(\"Kitap objesi siliniyor........\")"
   ]
  },
  {
   "cell_type": "code",
   "execution_count": 63,
   "id": "b1d23d62",
   "metadata": {},
   "outputs": [
    {
     "name": "stdout",
     "output_type": "stream",
     "text": [
      "init fonkssiyonu\n"
     ]
    }
   ],
   "source": [
    "kitap2=Kitap(\"İstanbul Hatırası\",\"Ahmet Ümit\",561,\"Polisiye\")"
   ]
  },
  {
   "cell_type": "code",
   "execution_count": 64,
   "id": "ed05001f",
   "metadata": {},
   "outputs": [
    {
     "data": {
      "text/plain": [
       "561"
      ]
     },
     "execution_count": 64,
     "metadata": {},
     "output_type": "execute_result"
    }
   ],
   "source": [
    "len(kitap2)"
   ]
  },
  {
   "cell_type": "code",
   "execution_count": 66,
   "id": "4a02ab57",
   "metadata": {},
   "outputs": [],
   "source": [
    "del kitap2 #Kitap objesi silinmiş oldu"
   ]
  },
  {
   "cell_type": "code",
   "execution_count": 67,
   "id": "156123ff",
   "metadata": {},
   "outputs": [
    {
     "ename": "NameError",
     "evalue": "name 'kitap2' is not defined",
     "output_type": "error",
     "traceback": [
      "\u001b[1;31m---------------------------------------------------------------------------\u001b[0m",
      "\u001b[1;31mNameError\u001b[0m                                 Traceback (most recent call last)",
      "\u001b[1;32m~\\AppData\\Local\\Temp/ipykernel_20700/2695416041.py\u001b[0m in \u001b[0;36m<module>\u001b[1;34m\u001b[0m\n\u001b[1;32m----> 1\u001b[1;33m \u001b[0mkitap2\u001b[0m\u001b[1;33m\u001b[0m\u001b[1;33m\u001b[0m\u001b[0m\n\u001b[0m",
      "\u001b[1;31mNameError\u001b[0m: name 'kitap2' is not defined"
     ]
    }
   ],
   "source": [
    "kitap2"
   ]
  },
  {
   "cell_type": "code",
   "execution_count": null,
   "id": "b728de87",
   "metadata": {},
   "outputs": [],
   "source": []
  }
 ],
 "metadata": {
  "kernelspec": {
   "display_name": "Python 3 (ipykernel)",
   "language": "python",
   "name": "python3"
  },
  "language_info": {
   "codemirror_mode": {
    "name": "ipython",
    "version": 3
   },
   "file_extension": ".py",
   "mimetype": "text/x-python",
   "name": "python",
   "nbconvert_exporter": "python",
   "pygments_lexer": "ipython3",
   "version": "3.9.7"
  }
 },
 "nbformat": 4,
 "nbformat_minor": 5
}
